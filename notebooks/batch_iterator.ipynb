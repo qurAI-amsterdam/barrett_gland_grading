{
 "cells": [
  {
   "cell_type": "code",
   "execution_count": null,
   "id": "d10e1c1b-88ee-41d3-a5da-50c75711797f",
   "metadata": {},
   "outputs": [],
   "source": [
    "from wholeslidedata.iterators import create_batch_iterator\n",
    "from matplotlib import pyplot as plt\n",
    "import os\n",
    "import sys\n",
    "sys.path.insert(1, os.path.join(sys.path[0], '..'))\n",
    "from utils import init_plot, plot_batch, show_plot, print_dataset_statistics\n",
    "from shapely.prepared import prep\n",
    "import numpy as np\n",
    "from pprint import pprint\n",
    "import yaml\n",
    "from wholeslidedata.annotation import utils as annotation_utils\n",
    "from label_utils import to_dysplastic_vs_non_dysplastic\n",
    "import random\n",
    "import matplotlib.patches as mpatches"
   ]
  },
  {
   "cell_type": "code",
   "execution_count": null,
   "id": "f598e6e5-e979-42bc-b872-7eea7f9142dc",
   "metadata": {},
   "outputs": [],
   "source": [
    "# open config for plotting\n",
    "user_config = './../configs/unet_training_config.yml'\n",
    "\n",
    "repeats = 1\n",
    "cpus = 1\n",
    "mode = 'training'\n",
    "\n",
    "# lets print some configs\n",
    "with open(user_config, 'r') as yamlfile:\n",
    "    data = yaml.load(yamlfile, Loader=yaml.FullLoader)\n",
    "    \n",
    "for k, v in data['wholeslidedata']['default'].items():\n",
    "    print('{}: {}'.format(k, v))"
   ]
  },
  {
   "cell_type": "code",
   "execution_count": null,
   "id": "2f03d866-8b2c-47ed-9b4f-d83fa7391120",
   "metadata": {
    "tags": []
   },
   "outputs": [],
   "source": [
    "# create a batch iterator for plotting\n",
    "training_batch_generator = create_batch_iterator(user_config=user_config,\n",
    "                                                 number_of_batches=None,\n",
    "                                                 mode='training',\n",
    "                                                 cpus=cpus)\n",
    "    \n",
    "# print dataset statistics\n",
    "dataset = training_batch_generator.dataset\n",
    "print('Training dataset:')\n",
    "d = print_dataset_statistics(dataset)"
   ]
  },
  {
   "cell_type": "code",
   "execution_count": null,
   "id": "2ea76611-8a56-423a-9ea8-51e407e29262",
   "metadata": {},
   "outputs": [],
   "source": [
    "# show annotations\n",
    "color_map = {'e-stroma': \"blue\", 'ndbe-g': \"green\", 'lgd-g': \"orange\", 'hgd-g': \"red\", 'squamous-t': 'pink'}\n",
    "\n",
    "for _ in range(rows):\n",
    "    for label in dataset.sample_references.keys():\n",
    "\n",
    "        # get all references \n",
    "        all_references = dataset.sample_references[label]\n",
    "        \n",
    "        # get one row of 8 of references\n",
    "        i = 0\n",
    "        for i in range(rows):\n",
    "            references = all_references[i: i + 8]\n",
    "            i+= 8\n",
    "\n",
    "            fig, ax = plt.subplots(1, 8, figsize=(30,5))\n",
    "            for idx, reference in enumerate(references):\n",
    "\n",
    "                # get the associated image\n",
    "                image = dataset.get_wsi_from_reference(reference)\n",
    "\n",
    "                # get the polygon from the associated annotations\n",
    "                wsa = dataset.get_wsa_from_reference(reference)\n",
    "                annotation = wsa.annotations[reference.annotation_index]\n",
    "\n",
    "                # note the spacing 0.25 (magnification level = 40)\n",
    "                patch = image.get_annotation(annotation, 0.25)\n",
    "                ax[idx].imshow(patch)\n",
    "                title = f'{label} {idx}\\n area={int(annotation.area)} \\n loc={annotation.center} \\n {reference.file_key}'\n",
    "                annotation_utils.plot_annotations([annotation], title=title, ax=ax[idx], use_base_coordinates=True, color_map=color_map)\n",
    "            plt.show()"
   ]
  },
  {
   "cell_type": "code",
   "execution_count": null,
   "id": "80d78685-8628-4ab4-8bbf-9934f7d8459f",
   "metadata": {},
   "outputs": [],
   "source": [
    "# show some patches\n",
    "colors_1 = [\"white\", \"green\", \"orange\", \"red\", 'yellow', 'yellow', 'purple', 'pink', 'grey', \"blue\"]\n",
    "colors_2 = [\"white\", \"green\", \"red\", \"yellow\", 'brown', 'yellow', 'purple', 'pink', 'grey', 'green']\n",
    "\n",
    "for r in range(repeats):\n",
    "    for idx, (x, y, info) in enumerate(training_batch_generator):\n",
    "        \n",
    "        # how many patches to plot\n",
    "        patches = 4\n",
    "\n",
    "        # ndbe, lgd, hgd\n",
    "        fig, axes = plt.subplots(1, patches, figsize=(25, 6), squeeze=False)\n",
    "        plot_batch(axes, 0, x[:patches], y[:patches], alpha=0.3, colors=colors_1)\n",
    "        green_patch = mpatches.Patch(color='green', label='NBDE', alpha=0.5)\n",
    "        orange_patch = mpatches.Patch(color='orange', label='LGD', alpha=0.5)\n",
    "        red_patch = mpatches.Patch(color='red', label='HGD', alpha=0.5)\n",
    "        plt.legend(handles=[green_patch, orange_patch, red_patch],\n",
    "                         loc='upper left', borderaxespad=0.)\n",
    "        plt.show()\n",
    "        \n",
    "        # show just the image\n",
    "        y_zeros = np.zeros_like(y)\n",
    "        fig, axes = plt.subplots(1, patches, figsize=(25, 6), squeeze=False)\n",
    "        plot_batch(axes, 0, x[:patches], y_zeros[:patches], alpha=0.3, colors=colors_2)\n",
    "        plt.show()\n",
    "\n",
    "        # ndbe vs dbe\n",
    "        y = to_dysplastic_vs_non_dysplastic(y)\n",
    "        fig, axes = plt.subplots(1, patches, figsize=(25, 6), squeeze=False)\n",
    "        plot_batch(axes, 0, x[:patches], y[:patches], alpha=0.3, colors=colors_2)\n",
    "        green_patch = mpatches.Patch(color='green', label='NDBE', alpha=0.5)\n",
    "        red_patch = mpatches.Patch(color='red', label='DBE', alpha=0.5)\n",
    "        plt.legend(handles=[green_patch, red_patch],\n",
    "                         loc='upper left', borderaxespad=0.)\n",
    "        plt.show()\n",
    "        print('\\n')"
   ]
  }
 ],
 "metadata": {
  "kernelspec": {
   "display_name": "Python 3 (ipykernel)",
   "language": "python",
   "name": "python3"
  },
  "language_info": {
   "codemirror_mode": {
    "name": "ipython",
    "version": 3
   },
   "file_extension": ".py",
   "mimetype": "text/x-python",
   "name": "python",
   "nbconvert_exporter": "python",
   "pygments_lexer": "ipython3",
   "version": "3.9.7"
  }
 },
 "nbformat": 4,
 "nbformat_minor": 5
}
