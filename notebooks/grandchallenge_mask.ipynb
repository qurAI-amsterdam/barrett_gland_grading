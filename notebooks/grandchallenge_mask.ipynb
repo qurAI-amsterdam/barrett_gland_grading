{
 "cells": [
  {
   "cell_type": "code",
   "execution_count": 1,
   "id": "b7b81e22-a065-4f6c-a15d-5f74a711bfa4",
   "metadata": {},
   "outputs": [],
   "source": [
    "from wholeslidedata.annotation.wholeslideannotation import WholeSlideAnnotation\n",
    "from wholeslidedata.image.wholeslideimage import WholeSlideImage\n",
    "from wholeslidedata.annotation.utils import plot_annotations\n",
    "from matplotlib import pyplot as plt\n",
    "from pprint import pprint\n",
    "from wholeslidedata.annotation import utils as annotation_utils\n",
    "import numpy as np\n",
    "from PIL import Image, ImageDraw, ImageFont\n",
    "\n",
    "import pandas as pd\n",
    "import sys\n",
    "import os\n",
    "import shutil\n",
    "sys.path.append(\"C:/Users/mbotros/ASAP2.0/bin/\")\n",
    "from wholeslidedata.accessories.asap.imagewriter import WholeSlideMaskWriter"
   ]
  },
  {
   "cell_type": "code",
   "execution_count": 2,
   "id": "19792bd5-17e2-4069-b83d-591b749953b1",
   "metadata": {},
   "outputs": [],
   "source": [
    "def write_mask(wsi, wsa, spacing, tile_size=1024, suffix=\"_biopsy_mask_color.tif\"):\n",
    "    shape = wsi.shapes[wsi.get_level_from_spacing(spacing)]\n",
    "    ratio = wsi.get_downsampling_from_spacing(spacing)\n",
    "    write_spacing = wsi.get_real_spacing(spacing)\n",
    "\n",
    "    mask_output_path = str(wsa.path).replace(\".xml\", suffix)\n",
    "    \n",
    "    wsm_writer = WholeSlideMaskWriter()\n",
    "    wsm_writer.write(\n",
    "        path=mask_output_path,\n",
    "        spacing=write_spacing,\n",
    "        dimensions=(shape[0], shape[1]),\n",
    "        tile_shape=(tile_size, tile_size),\n",
    "    )\n",
    "    \n",
    "    # make an image same size as the WSI\n",
    "    mask = Image.new(mode='P', size=shape)\n",
    "   \n",
    "    # declare font\n",
    "    font = ImageFont.truetype(\"arial.ttf\", size=1500)\n",
    "    \n",
    "    # draw rectangle for every biopsy-outlines annotation\n",
    "    for i, annotation in enumerate(wsa.annotations):\n",
    "        \n",
    "        bottom_left, top_right = tuple(annotation.coordinates[0]), tuple(annotation.coordinates[2])\n",
    "        ImageDraw.Draw(mask).rectangle(xy=[bottom_left, top_right], width=175, outline=i + 1)\n",
    "        # ImageDraw.Draw(mask).text(xy=bottom_left, text=\" {}\".format(i + 1), font=font, fill=1)\n",
    "    \n",
    "    # make it a numpy array\n",
    "    mask = np.asarray(mask).T\n",
    "    print('Shape mask: {}'.format(mask.shape))   \n",
    "        \n",
    "    # write output \n",
    "    for y_pos in range(0, shape[1], tile_size):\n",
    "        for x_pos in range(0, shape[0], tile_size):\n",
    "            mask_tile = mask[x_pos: x_pos + tile_size, y_pos : y_pos + tile_size].T\n",
    "            if np.any(mask_tile):\n",
    "                wsm_writer.write_tile(tile=mask_tile, coordinates=(int(x_pos), int(y_pos)))\n",
    "\n",
    "    print(\"closing...\")\n",
    "    wsm_writer.save()\n",
    "    print(\"done\")"
   ]
  },
  {
   "cell_type": "code",
   "execution_count": 3,
   "id": "1d5ad68f-bfbf-4683-ba00-9bb1217cf305",
   "metadata": {},
   "outputs": [
    {
     "name": "stdout",
     "output_type": "stream",
     "text": [
      "['ASL01_3', 'ASL03_1', 'ASL07_1', 'ASL10_1', 'ASL14_1', 'ASL17_1', 'ASL18_1', 'ASL19_1', 'ASL20_1', 'ASL22_1', 'ASL23_1', 'ASL24_1', 'ASL25_1', 'ASL26_1', 'ASL29_1', 'ASL31_1', 'ASL32_1', 'ASL33_1', 'ASL34_1', 'ASL35_1', 'RBE-00016', 'RBE-00019', 'RBE-00046', 'RBE-00047', 'RBE-00048', 'RBE-00049', 'RBE-00050', 'RBE-00051', 'RBE-00054', 'RBE-00055', 'RBE-00056', 'RBE-00100', 'RBE-00101', 'RBE-00102', 'RBE-00103', 'RBE-00104', 'RBE-00105', 'RBE-00106', 'RBE-00108', 'RBE-00109', 'RBE-00110', 'RBE-00111', 'RBE-00112', 'RBE-00113', 'RBE-00114', 'RBE-00115', 'RBE-00116', 'RBE-00117', 'RBE-00118', 'RBE-00119', 'RBE-00120', 'RBE-00121', 'RBE-00122', 'RBE-00124', 'RBE-00125', 'RBE-00127', 'RBE-00128', 'RBE-00141', 'RBE-00142', 'RBE-00143', 'RBE-00144', 'RBE-00145', 'RBE-00146', 'RBE-00147', 'RBE-00148', 'RBE-00149', 'RBE-00150', 'RBE-00151', 'RBE-00154', 'RBE-00155', 'RBE-00157', 'RBE-00158', 'RBE-00159', 'RBE-00160', 'RBE-00161', 'RBE-00162', 'RBE-00163', 'RBE-00164', 'RBE-00165', 'RBE-00166', 'RBE-00168', 'RBE-00169', 'RBE-00170', 'RBE-00171', 'RBE-00172', 'RBE-00173', 'RBE-00176', 'RBE-00178', 'RBE-00179', 'RBE-00181', 'RBE-00182', 'RBE-00183', 'RBE-00184', 'RBE-00185', 'RBE-00187', 'RBE-00188', 'RBE-00189', 'RBE-00190', 'RBE-00191', 'RBE-00192', 'RBET17-13024', 'RBET17-13736', 'RBET17-14026', 'RBET17-15026', 'RBET17-50490', 'RBET17-50727', 'RBET17-50730', 'RBET17-51016', 'RBET17-51017', 'RBET17-51018', 'RBET18-02665', 'RBET18-02903', 'RBET18-03457', 'RBET18-04030', 'RBET18-06938', 'RBET18-50101', 'RBET18-50137', 'RBET18-50151', 'RL006_01_01_01', 'RL007_01_02_01', 'RL013_02_02_02', 'RL015_01_03_01', 'RL025_01_02_01', 'RL030_01_03_01', 'RL035_01_01_01', 'RL036_01_01_01', 'RL042_01_03_01', 'RL044_01_02_01', 'RL049_01_04_01', 'RL054_01_02_01', 'RL059_01_03_01', 'RL061_01_01_01', 'RL076_01_01_01', 'RL080_01_01_01', 'RL086_01_02_01', 'RL108_01_01_01', 'RL111_01_01_01', 'RL146_01_03_01', 'RL147_01_02_01', 'RL150_01_02_01', 'RL155_01_01_01', 'RL168_01_01_01', 'RL169_01_02_01', 'RL185_01_01_01', 'RL187_01_05_01', 'ROCT03_VIII', 'ROCT04_VIII', 'ROCT04_XII', 'ROCT04_XX', 'ROCT09_V', 'ROCT09_VIII', 'ROCT09_XI', 'ROCT10_I', 'ROCT10_II', 'ROCT10_III', 'ROCT12_VI', 'ROCT13_V', 'ROCT13_VII', 'ROCT18_IV', 'ROCT18_VI', 'ROCT18_X', 'ROCT24_IX', 'ROCT24_X', 'ROCT24_XIX', 'ROCT28_I', 'ROCT28_II', 'ROCT30_XIII', 'ROCT31_III', 'ROCT31_IV', 'ROCT32_VI', 'ROCT34_VIII', 'ROCT36_I', 'ROCT37_III', 'ROCT38_XI', 'ROCT39_V', 'ROCT39_VI', 'ROCT51_VI']\n"
     ]
    }
   ],
   "source": [
    "# open df\n",
    "df = pd.read_csv('C:/Users/mbotros/PhD/docs/dyplasia_cases_rbe_reader_study.csv')\n",
    "case_list = df['case'].tolist()\n",
    "print(case_list)"
   ]
  },
  {
   "cell_type": "code",
   "execution_count": 4,
   "id": "2713efe9-9b4f-4001-9d02-b54189e575cf",
   "metadata": {
    "tags": []
   },
   "outputs": [
    {
     "name": "stdout",
     "output_type": "stream",
     "text": [
      "36\n",
      "37\n"
     ]
    }
   ],
   "source": [
    "# input_folder = 'L:/basic/divg/PATH-COMPAI/datasets/Barrett/CLASSIFIED/RBE/'\n",
    "input_folder = 'L:/basic/divg/PATH-COMPAI/datasets/Barrett/CLASSIFIED/ASL HE + p53/HE/'\n",
    "# input_folder = 'L:/basic/divg/PATH-COMPAI/datasets/Barrett/CLASSIFIED/LANS-Gland/'\n",
    "\n",
    "image_files = sorted([os.path.join(input_folder, f) for f in os.listdir(input_folder) if 'tif' in f and 'biopsy' not in f])\n",
    "annotation_files = sorted([os.path.join(input_folder, f) for f in os.listdir(input_folder) if 'xml' in f])\n",
    "\n",
    "print(len(image_files))\n",
    "print(len(annotation_files))"
   ]
  },
  {
   "cell_type": "code",
   "execution_count": 5,
   "id": "516f59e1-2682-4d21-a644-b4ed601087ac",
   "metadata": {},
   "outputs": [],
   "source": [
    "output_folder = 'C:/Users/mbotros/PhD/data/reader_study_cases/'"
   ]
  },
  {
   "cell_type": "code",
   "execution_count": 6,
   "id": "e3a3b9ef-5b45-4dfa-8ea3-e347d068a91c",
   "metadata": {},
   "outputs": [
    {
     "name": "stdout",
     "output_type": "stream",
     "text": [
      "C:/Users/mbotros/PhD/data/reader_study_cases/ASL01_3_HE.tif\n",
      "Image: C:/Users/mbotros/PhD/data/reader_study_cases/ASL01_3_HE.tif\n",
      "Anno: C:/Users/mbotros/PhD/data/reader_study_cases/ASL01_3_HE.xml\n",
      "Creating: C:/Users/mbotros/PhD/data/reader_study_cases/ASL01_3_HE_biopsy_mask_color.tif....\n",
      "Spacing: 0.25\n",
      "Dimensions: (99328, 58368)\n",
      "Tile_shape: (1024, 1024)\n",
      "Shape mask: (99328, 58368)\n",
      "closing...\n",
      "done\n",
      "\n",
      "\n"
     ]
    }
   ],
   "source": [
    "# define wsi and wsa (only take the biopsy outlines)\n",
    "for path_to_wsi, path_to_wsa in zip(image_files, annotation_files):\n",
    "    \n",
    "    include = any(case in path_to_wsi for case in case_list)\n",
    "    \n",
    "    if include:\n",
    "        \n",
    "        # copy the wsi and wsa\n",
    "        wsi_dest = os.path.join(output_folder, path_to_wsi.split('/')[-1])[:-1]\n",
    "        print(wsi_dest)\n",
    "        wsa_dest = os.path.join(output_folder, path_to_wsa.split('/')[-1])\n",
    "        shutil.copy2(path_to_wsi, wsi_dest)\n",
    "        shutil.copy2(path_to_wsa, wsa_dest)\n",
    "        \n",
    "        print('Image: {}'.format(wsi_dest))\n",
    "        print('Anno: {}'.format(wsa_dest))\n",
    "\n",
    "        wsi = WholeSlideImage(wsi_dest, backend='asap')\n",
    "        wsa = WholeSlideAnnotation(wsa_dest, labels=['Biopsy-Outlines'])\n",
    "\n",
    "        write_mask(wsi=wsi, wsa=wsa, spacing=0.25)\n",
    "        print('\\n')\n",
    "    break"
   ]
  }
 ],
 "metadata": {
  "kernelspec": {
   "display_name": "Python 3 (ipykernel)",
   "language": "python",
   "name": "python3"
  },
  "language_info": {
   "codemirror_mode": {
    "name": "ipython",
    "version": 3
   },
   "file_extension": ".py",
   "mimetype": "text/x-python",
   "name": "python",
   "nbconvert_exporter": "python",
   "pygments_lexer": "ipython3",
   "version": "3.8.13"
  }
 },
 "nbformat": 4,
 "nbformat_minor": 5
}
