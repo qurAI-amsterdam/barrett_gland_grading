{
 "cells": [
  {
   "cell_type": "code",
   "execution_count": null,
   "id": "b7b81e22-a065-4f6c-a15d-5f74a711bfa4",
   "metadata": {},
   "outputs": [],
   "source": [
    "from wholeslidedata.annotation.wholeslideannotation import WholeSlideAnnotation\n",
    "from wholeslidedata.image.wholeslideimage import WholeSlideImage\n",
    "from wholeslidedata.annotation.utils import plot_annotations\n",
    "from matplotlib import pyplot as plt\n",
    "from pprint import pprint\n",
    "from wholeslidedata.annotation import utils as annotation_utils\n",
    "import numpy as np\n",
    "from PIL import Image, ImageDraw, ImageFont\n",
    "\n",
    "import sys\n",
    "import os\n",
    "sys.path.append(\"C:/Users/mbotros/ASAP2.0/bin/\")\n",
    "from wholeslidedata.accessories.asap.imagewriter import WholeSlideMaskWriter"
   ]
  },
  {
   "cell_type": "code",
   "execution_count": null,
   "id": "19792bd5-17e2-4069-b83d-591b749953b1",
   "metadata": {},
   "outputs": [],
   "source": [
    "def write_mask(wsi, wsa, spacing, tile_size=1024, suffix=\"_biopsy_mask_color.tif\"):\n",
    "    shape = wsi.shapes[wsi.get_level_from_spacing(spacing)]\n",
    "    ratio = wsi.get_downsampling_from_spacing(spacing)\n",
    "    write_spacing = wsi.get_real_spacing(spacing)\n",
    "\n",
    "    mask_output_path = str(wsa.path).replace(\".xml\", suffix)\n",
    "\n",
    "    wsm_writer = WholeSlideMaskWriter()\n",
    "    wsm_writer.write(\n",
    "        path=mask_output_path,\n",
    "        spacing=write_spacing,\n",
    "        dimensions=(shape[0], shape[1]),\n",
    "        tile_shape=(tile_size, tile_size),\n",
    "    )\n",
    "    \n",
    "    # make an image same size as the WSI\n",
    "    mask = Image.new(mode='P', size=shape)\n",
    "    \n",
    "    # declare font\n",
    "    font = ImageFont.truetype(\"arial.ttf\", size=1500)\n",
    "    \n",
    "    # draw rectangle for every biopsy-outlines annotation\n",
    "    for i, annotation in enumerate(wsa.annotations):\n",
    "        \n",
    "        bottom_left, top_right = tuple(annotation.coordinates[0]), tuple(annotation.coordinates[2])\n",
    "        ImageDraw.Draw(mask).rectangle(xy=[bottom_left, top_right], width=175, outline=i + 1)\n",
    "        # ImageDraw.Draw(mask).text(xy=bottom_left, text=\" {}\".format(i + 1), font=font, fill=1)\n",
    "    \n",
    "    # make it a numpy array\n",
    "    mask = np.asarray(mask).T\n",
    "       \n",
    "    # write output \n",
    "    for y_pos in range(0, shape[1], tile_size):\n",
    "        for x_pos in range(0, shape[0], tile_size):\n",
    "            mask_tile = mask[x_pos: x_pos + tile_size, y_pos: y_pos + tile_size].T\n",
    "            if np.any(mask_tile):\n",
    "                wsm_writer.write_tile(tile=mask_tile, coordinates=(int(x_pos), int(y_pos)))\n",
    "\n",
    "    print(\"closing...\")\n",
    "    wsm_writer.save()\n",
    "    print(\"done\")"
   ]
  },
  {
   "cell_type": "code",
   "execution_count": null,
   "id": "2713efe9-9b4f-4001-9d02-b54189e575cf",
   "metadata": {
    "tags": []
   },
   "outputs": [],
   "source": [
    "input_folder = 'C:/Users/mbotros/PhD/data/ASL/'\n",
    "\n",
    "image_files = sorted([os.path.join(input_folder, f) for f in os.listdir(input_folder) if 'tif' in f and 'biopsy' not in f])\n",
    "annotation_files = sorted([os.path.join(input_folder, f) for f in os.listdir(input_folder) if 'xml' in f])\n",
    "\n",
    "print(len(image_files))\n",
    "print(len(annotation_files))"
   ]
  },
  {
   "cell_type": "code",
   "execution_count": null,
   "id": "e3a3b9ef-5b45-4dfa-8ea3-e347d068a91c",
   "metadata": {},
   "outputs": [],
   "source": [
    "# define wsi and wsa (only take the biopsy outlines)\n",
    "\n",
    "for path_to_wsi, path_to_wsa in zip(image_files, annotation_files):\n",
    "    print('Image: {}'.format(path_to_wsi))\n",
    "    print('Anno: {}'.format(path_to_wsa))\n",
    "    \n",
    "    wsi = WholeSlideImage(path_to_wsi, backend='asap')\n",
    "    wsa = WholeSlideAnnotation(path_to_wsa, labels=['Biopsy-Outlines'])\n",
    "\n",
    "    write_mask(wsi=wsi, wsa=wsa, spacing=0.25)\n",
    "    print('\\n')"
   ]
  }
 ],
 "metadata": {
  "kernelspec": {
   "display_name": "Python 3 (ipykernel)",
   "language": "python",
   "name": "python3"
  },
  "language_info": {
   "codemirror_mode": {
    "name": "ipython",
    "version": 3
   },
   "file_extension": ".py",
   "mimetype": "text/x-python",
   "name": "python",
   "nbconvert_exporter": "python",
   "pygments_lexer": "ipython3",
   "version": "3.8.13"
  }
 },
 "nbformat": 4,
 "nbformat_minor": 5
}