{
 "cells": [
  {
   "cell_type": "code",
   "execution_count": 3,
   "id": "b7b81e22-a065-4f6c-a15d-5f74a711bfa4",
   "metadata": {},
   "outputs": [],
   "source": [
    "from wholeslidedata.annotation.wholeslideannotation import WholeSlideAnnotation\n",
    "from wholeslidedata.image.wholeslideimage import WholeSlideImage\n",
    "from wholeslidedata.annotation.utils import plot_annotations\n",
    "from matplotlib import pyplot as plt\n",
    "from pprint import pprint\n",
    "from wholeslidedata.annotation import utils as annotation_utils\n",
    "import numpy as np\n",
    "from PIL import Image, ImageDraw, ImageFont\n",
    "\n",
    "# import pandas as pd\n",
    "import sys\n",
    "import os\n",
    "import shutil\n",
    "sys.path.append(\"C:/Users/mbotros/ASAP2.0/bin/\")\n",
    "from wholeslidedata.accessories.asap.imagewriter import WholeSlideMaskWriter"
   ]
  },
  {
   "cell_type": "code",
   "execution_count": null,
   "id": "19792bd5-17e2-4069-b83d-591b749953b1",
   "metadata": {},
   "outputs": [],
   "source": [
    "def write_mask(wsi, wsa, spacing, tile_size=1024, suffix=\"_biopsy_mask_color.tif\"):\n",
    "    shape = wsi.shapes[wsi.get_level_from_spacing(spacing)]\n",
    "    ratio = wsi.get_downsampling_from_spacing(spacing)\n",
    "    write_spacing = wsi.get_real_spacing(spacing)\n",
    "\n",
    "    mask_output_path = str(wsa.path).replace(\".xml\", suffix)\n",
    "    \n",
    "    wsm_writer = WholeSlideMaskWriter()\n",
    "    wsm_writer.write(\n",
    "        path=mask_output_path,\n",
    "        spacing=write_spacing,\n",
    "        dimensions=(shape[0], shape[1]),\n",
    "        tile_shape=(tile_size, tile_size),\n",
    "    )\n",
    "    \n",
    "    # make an image same size as the WSI\n",
    "    mask = Image.new(mode='P', size=shape)\n",
    "   \n",
    "    # declare font\n",
    "    font = ImageFont.truetype(\"arial.ttf\", size=1500)\n",
    "    \n",
    "    # draw rectangle for every biopsy-outlines annotation\n",
    "    for i, annotation in enumerate(wsa.annotations):\n",
    "        \n",
    "        bottom_left, top_right = tuple(annotation.coordinates[0]), tuple(annotation.coordinates[2])\n",
    "        ImageDraw.Draw(mask).rectangle(xy=[bottom_left, top_right], width=175, outline=i + 1)\n",
    "        # ImageDraw.Draw(mask).text(xy=bottom_left, text=\" {}\".format(i + 1), font=font, fill=1)\n",
    "    \n",
    "    # make it a numpy array\n",
    "    mask = np.asarray(mask).T\n",
    "    print('Shape mask: {}'.format(mask.shape))   \n",
    "        \n",
    "    # write output \n",
    "    for y_pos in range(0, shape[1], tile_size):\n",
    "        for x_pos in range(0, shape[0], tile_size):\n",
    "            mask_tile = mask[x_pos: x_pos + tile_size, y_pos : y_pos + tile_size].T\n",
    "            if np.any(mask_tile):\n",
    "                wsm_writer.write_tile(tile=mask_tile, coordinates=(int(x_pos), int(y_pos)))\n",
    "\n",
    "    print(\"closing...\")\n",
    "    wsm_writer.save()\n",
    "    print(\"done\")"
   ]
  },
  {
   "cell_type": "code",
   "execution_count": null,
   "id": "1d5ad68f-bfbf-4683-ba00-9bb1217cf305",
   "metadata": {},
   "outputs": [],
   "source": [
    "# open df\n",
    "df = pd.read_csv('C:/Users/mbotros/PhD/docs/dyplasia_cases_rbe_reader_study.csv')\n",
    "case_list = df['case'].tolist()\n",
    "print(case_list)"
   ]
  },
  {
   "cell_type": "code",
   "execution_count": null,
   "id": "2713efe9-9b4f-4001-9d02-b54189e575cf",
   "metadata": {
    "tags": []
   },
   "outputs": [],
   "source": [
    "# input_folder = 'L:/basic/divg/PATH-COMPAI/datasets/Barrett/CLASSIFIED/RBE/'\n",
    "input_folder = 'L:/basic/divg/PATH-COMPAI/datasets/Barrett/CLASSIFIED/ASL HE + p53/HE/'\n",
    "# input_folder = 'L:/basic/divg/PATH-COMPAI/datasets/Barrett/CLASSIFIED/LANS-Gland/'\n",
    "\n",
    "image_files = sorted([os.path.join(input_folder, f) for f in os.listdir(input_folder) if 'tif' in f and 'biopsy' not in f])\n",
    "annotation_files = sorted([os.path.join(input_folder, f) for f in os.listdir(input_folder) if 'xml' in f])\n",
    "\n",
    "print(len(image_files))\n",
    "print(len(annotation_files))"
   ]
  },
  {
   "cell_type": "code",
   "execution_count": null,
   "id": "516f59e1-2682-4d21-a644-b4ed601087ac",
   "metadata": {},
   "outputs": [],
   "source": [
    "output_folder = 'C:/Users/mbotros/PhD/data/reader_study_cases/'"
   ]
  },
  {
   "cell_type": "code",
   "execution_count": null,
   "id": "e3a3b9ef-5b45-4dfa-8ea3-e347d068a91c",
   "metadata": {},
   "outputs": [],
   "source": [
    "# define wsi and wsa (only take the biopsy outlines)\n",
    "for path_to_wsi, path_to_wsa in zip(image_files, annotation_files):\n",
    "    \n",
    "    include = any(case in path_to_wsi for case in case_list)\n",
    "    \n",
    "    if include:\n",
    "        \n",
    "        # copy the wsi and wsa\n",
    "        wsi_dest = os.path.join(output_folder, path_to_wsi.split('/')[-1])[:-1]\n",
    "        print(wsi_dest)\n",
    "        wsa_dest = os.path.join(output_folder, path_to_wsa.split('/')[-1])\n",
    "        shutil.copy2(path_to_wsi, wsi_dest)\n",
    "        shutil.copy2(path_to_wsa, wsa_dest)\n",
    "        \n",
    "        print('Image: {}'.format(wsi_dest))\n",
    "        print('Anno: {}'.format(wsa_dest))\n",
    "\n",
    "        wsi = WholeSlideImage(wsi_dest, backend='asap')\n",
    "        wsa = WholeSlideAnnotation(wsa_dest, labels=['Biopsy-Outlines'])\n",
    "\n",
    "        write_mask(wsi=wsi, wsa=wsa, spacing=0.25)\n",
    "        print('\\n')\n",
    "    break"
   ]
  }
 ],
 "metadata": {
  "kernelspec": {
   "display_name": "Python 3 (ipykernel)",
   "language": "python",
   "name": "python3"
  },
  "language_info": {
   "codemirror_mode": {
    "name": "ipython",
    "version": 3
   },
   "file_extension": ".py",
   "mimetype": "text/x-python",
   "name": "python",
   "nbconvert_exporter": "python",
   "pygments_lexer": "ipython3",
   "version": "3.8.15"
  }
 },
 "nbformat": 4,
 "nbformat_minor": 5
}
